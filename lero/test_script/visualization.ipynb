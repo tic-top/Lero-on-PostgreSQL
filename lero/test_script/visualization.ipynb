{
 "cells": [
  {
   "cell_type": "code",
   "execution_count": 37,
   "metadata": {},
   "outputs": [],
   "source": [
    "import os\n",
    "import json\n",
    "import pandas as pd\n",
    "import matplotlib.pyplot as plt\n",
    "import numpy as np\n",
    "import math\n",
    "import random\n",
    "\n",
    "%matplotlib inline"
   ]
  },
  {
   "cell_type": "code",
   "execution_count": 38,
   "metadata": {},
   "outputs": [],
   "source": [
    "def convert_runtime_file_to_dict(fp):\n",
    "    mapping = {}\n",
    "    with open(fp, 'r') as f:\n",
    "        for line in f.readlines():\n",
    "            arr = line.strip().split(\"#####\")\n",
    "            k = arr[0]\n",
    "            v = json.loads(arr[1])[0]['Execution Time'] / 1000\n",
    "            mapping[k] = v\n",
    "    return mapping\n",
    "\n",
    "def sum_runtime_file(fp):\n",
    "    with open(fp, 'r') as f:\n",
    "        return sum([json.loads(line.split(\"#####\")[1].strip())[0]['Execution Time'] / 1000 for line in f.readlines()])\n",
    "    \n",
    "def get_accumulation_list(query_dict, query_id_list):\n",
    "    result = []\n",
    "    \n",
    "    for qid in query_id_list:\n",
    "        cur_acc_time = query_dict[qid] + (0 if len(result) == 0 else result[-1])\n",
    "        result.append(cur_acc_time)\n",
    "    return result"
   ]
  },
  {
   "cell_type": "markdown",
   "metadata": {},
   "source": [
    "# Performance on training set"
   ]
  },
  {
   "cell_type": "code",
   "execution_count": 39,
   "metadata": {},
   "outputs": [],
   "source": [
    "pg_run_time_dict = convert_runtime_file_to_dict(\"pg_tpch_train.log\")\n",
    "lero_run_time_dict = convert_runtime_file_to_dict(\"ttnn_tpch.log\")\n",
    "\n",
    "with open(\"pg_tpch_train.log\", 'r') as f:\n",
    "    query_keys = [line.strip().split(\"#####\")[0] for line in f.readlines()]\n",
    "    \n",
    "pg_run_time_train = get_accumulation_list(pg_run_time_dict, query_keys)\n",
    "lero_run_time_train = get_accumulation_list(lero_run_time_dict, query_keys)"
   ]
  },
  {
   "cell_type": "code",
   "execution_count": 40,
   "metadata": {},
   "outputs": [],
   "source": [
    "x = range(1, len(pg_run_time_train)+1)\n",
    "plt.figure(figsize=(12, 8))\n",
    "\n",
    "plt.plot(x, pg_run_time_train, label=\"PostgreSQL\", linewidth=8)\n",
    "plt.plot(x, lero_run_time_train, label=\"TTNN\", linewidth=8)\n",
    "\n",
    "plt.ylabel(\"Time (s)\", fontsize=52)\n",
    "plt.xlim(1, 100)\n",
    "plt.xticks(size=36)\n",
    "plt.yticks(size=36)\n",
    "plt.xlabel(\"# of queries\", fontsize=52)\n",
    "plt.title(\"Training\", fontsize=52)\n",
    "\n",
    "plt.legend(fontsize=36)\n",
    "plt.grid()\n",
    "\n",
    "plt.tight_layout()\n",
    "plt.savefig(\"./train.jpg\")"
   ]
  },
  {
   "cell_type": "markdown",
   "metadata": {},
   "source": [
    "# Performance on test set"
   ]
  },
  {
   "cell_type": "code",
   "execution_count": 41,
   "metadata": {},
   "outputs": [],
   "source": [
    "lero_run_time_test = []\n",
    "for i in range(0, 5):\n",
    "    lero_run_time_test.append(sum_runtime_file(\"ttnn_tpch.log_ttnn_tpch_test_model_\" + str(i)))\n",
    "\n",
    "pg_run_time_test = [sum_runtime_file(\"pg_tpch_test.log\")] * 5"
   ]
  },
  {
   "cell_type": "code",
   "execution_count": 42,
   "metadata": {},
   "outputs": [],
   "source": [
    "x = range(len(pg_run_time_test))\n",
    "plt.figure(figsize=(12, 8))\n",
    "\n",
    "plt.plot(x, pg_run_time_test, label=\"PostgreSQL\", linewidth=8)\n",
    "plt.plot(x, lero_run_time_test, label=\"TTNN\", linewidth=8)\n",
    "\n",
    "plt.ylabel(\"Time (s)\", fontsize=52)\n",
    "plt.xlabel(\"Model id\", fontsize=52)\n",
    "plt.title(\"Test\", fontsize=52)\n",
    "plt.xticks([0, 1, 2, 3, 4], [0, 1, 2, 3, 4], size=36)\n",
    "plt.yticks(size=36)\n",
    "plt.legend(fontsize=36)\n",
    "plt.grid()\n",
    "\n",
    "plt.tight_layout()\n",
    "plt.savefig(\"./test.jpg\")"
   ]
  }
 ],
 "metadata": {
  "kernelspec": {
   "display_name": "base",
   "language": "python",
   "name": "python3"
  },
  "language_info": {
   "codemirror_mode": {
    "name": "ipython",
    "version": 3
   },
   "file_extension": ".py",
   "mimetype": "text/x-python",
   "name": "python",
   "nbconvert_exporter": "python",
   "pygments_lexer": "ipython3",
   "version": "3.12.7"
  }
 },
 "nbformat": 4,
 "nbformat_minor": 4
}
